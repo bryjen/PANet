{
  "nbformat": 4,
  "nbformat_minor": 0,
  "metadata": {
    "colab": {
      "provenance": [],
      "gpuType": "L4",
      "machine_shape": "hm"
    },
    "kernelspec": {
      "name": "python3",
      "display_name": "Python 3"
    },
    "language_info": {
      "name": "python"
    },
    "accelerator": "GPU"
  },
  "cells": [
    {
      "cell_type": "markdown",
      "source": [
        "# Setup\n",
        "This is the `full` notebook containing all the code required for training the model accross all possible configurations (1-/5-shot, w/ w/out PAR, diff. annotations, etc.). Its recommended to view the `PANET_main` notebook before going through this as it provides more insight into the pipeline that we're using below."
      ],
      "metadata": {
        "id": "af-sqsDAJqn7"
      }
    },
    {
      "cell_type": "code",
      "execution_count": 6,
      "metadata": {
        "colab": {
          "base_uri": "https://localhost:8080/"
        },
        "id": "-7Ei-DvM1Px9",
        "outputId": "17e71966-806a-4501-8f40-942a4c7a06bf",
        "cellView": "form"
      },
      "outputs": [
        {
          "output_type": "stream",
          "name": "stdout",
          "text": [
            "Requirement already satisfied: torch-summary in /usr/local/lib/python3.11/dist-packages (1.4.5)\n",
            "Requirement already satisfied: torchinfo in /usr/local/lib/python3.11/dist-packages (1.8.0)\n",
            "Reinitialized existing Git repository in /content/.git/\n",
            "error: remote origin already exists.\n",
            "HEAD is now at bf60b2c Fixes training loss tracker\n",
            "Requirement already satisfied: sacred in /usr/local/lib/python3.11/dist-packages (0.8.7)\n",
            "Requirement already satisfied: docopt-ng<1.0,>=0.9 in /usr/local/lib/python3.11/dist-packages (from sacred) (0.9.0)\n",
            "Requirement already satisfied: jsonpickle>=2.2.0 in /usr/local/lib/python3.11/dist-packages (from sacred) (4.0.2)\n",
            "Requirement already satisfied: munch<5.0,>=2.5 in /usr/local/lib/python3.11/dist-packages (from sacred) (4.0.0)\n",
            "Requirement already satisfied: wrapt<2.0,>=1.0 in /usr/local/lib/python3.11/dist-packages (from sacred) (1.17.2)\n",
            "Requirement already satisfied: py-cpuinfo>=4.0 in /usr/local/lib/python3.11/dist-packages (from sacred) (9.0.0)\n",
            "Requirement already satisfied: colorama>=0.4 in /usr/local/lib/python3.11/dist-packages (from sacred) (0.4.6)\n",
            "Requirement already satisfied: packaging>=18.0 in /usr/local/lib/python3.11/dist-packages (from sacred) (24.2)\n",
            "Requirement already satisfied: GitPython in /usr/local/lib/python3.11/dist-packages (from sacred) (3.1.44)\n",
            "Requirement already satisfied: gitdb<5,>=4.0.1 in /usr/local/lib/python3.11/dist-packages (from GitPython->sacred) (4.0.12)\n",
            "Requirement already satisfied: smmap<6,>=3.0.1 in /usr/local/lib/python3.11/dist-packages (from gitdb<5,>=4.0.1->GitPython->sacred) (5.0.2)\n"
          ]
        }
      ],
      "source": [
        "# @title Init Project Code, Imports, and Constants\n",
        "!pip install torch-summary\n",
        "!pip install torchinfo\n",
        "\n",
        "!git init\n",
        "!git remote add origin https://github.com/bryjen/PANet\n",
        "!git fetch\n",
        "!git reset --hard origin/master\n",
        "\n",
        "!pip install sacred\n",
        "\n",
        "import os\n",
        "import tqdm\n",
        "import torch\n",
        "import shutil\n",
        "import zipfile\n",
        "import kagglehub\n",
        "import torch.optim\n",
        "\n",
        "import numpy as np\n",
        "import torch.nn as nn\n",
        "import torch.backends.cudnn as cudnn\n",
        "\n",
        "from google.colab import drive\n",
        "from torch.utils.data import DataLoader\n",
        "from torchvision.transforms import Compose\n",
        "\n",
        "from models.fewshot import FewShotSeg\n",
        "from dataloaders.customized import voc_fewshot, coco_fewshot\n",
        "from dataloaders.transforms import ToTensorNormalize\n",
        "from dataloaders.transforms import Resize, DilateScribble\n",
        "from util.metric import Metric\n",
        "from util.utils import set_seed, CLASS_LABELS, get_bbox\n",
        "from config import ex\n",
        "\n",
        "\n",
        "DRIVE_MOUNTED = False"
      ]
    },
    {
      "cell_type": "code",
      "source": [
        "# @title Pre-trained and Weights & Dataset augmentation files\n",
        "# Here we download files required to setup the pipeline.\n",
        "# We download pre-trained weights so that we can fine-tune the model.\n",
        "# Additionally, we download additional annotations (scribbles + bounding boxes)\n",
        "# and modify the downloaded dataset with these files.\n",
        "\n",
        "# pre-trained weights\n",
        "os.makedirs(\"/content/pretrained_model/\", exist_ok=True)\n",
        "!gdown 1TJZy_YkYwNMkdtECAlkWy8VuorPFjP1t --output \"/content/pretrained_model/\"\n",
        "\n",
        "# dataset modification files\n",
        "os.makedirs(\"/content/dataset_augmentations/\", exist_ok=True)\n",
        "!gdown 1ZP6FHiclSNk1nH0WxhCH-W_fwd3GnEZa --output \"/content/dataset_augmentations/\"\n",
        "!gdown 1oGy-tg_Tv_-ZUQeiNtM5i4sK0lYB0MeL --output \"/content/dataset_augmentations/\"\n",
        "!gdown 1R5G3BfQTAY4zWkazTsgFc3kJNQVjwi4M --output \"/content/dataset_augmentations/\"\n",
        "!gdown 1D4oX0Ub6ObFO81yonWY4ehZ-tr5Hn5UK --output \"/content/dataset_augmentations/\"\n",
        "\n",
        "\n",
        "path = kagglehub.dataset_download(\"ngan2710/voc-devkit-2007-and-2012\")\n",
        "\n",
        "scribble_aug_auto_zip_path = \"/content/dataset_augmentations/ScribbleAugAuto.zip\"\n",
        "segmentation_class_aug_zip_path = \"/content/dataset_augmentations/SegmentationClassAug.zip\"\n",
        "segmentation_object_aug_zip_path = \"/content/dataset_augmentations/SegmentationObjectAug.zip\"\n",
        "\n",
        "extract_to = \"/root/.cache/kagglehub/datasets/ngan2710/voc-devkit-2007-and-2012/versions/1/VOCdevkit/VOC2012/\"\n",
        "\n",
        "with zipfile.ZipFile(scribble_aug_auto_zip_path, 'r') as zip_ref:\n",
        "    zip_ref.extractall(extract_to)\n",
        "\n",
        "with zipfile.ZipFile(segmentation_class_aug_zip_path, 'r') as zip_ref:\n",
        "    zip_ref.extractall(extract_to)\n",
        "\n",
        "with zipfile.ZipFile(segmentation_object_aug_zip_path, 'r') as zip_ref:\n",
        "    zip_ref.extractall(extract_to)\n",
        "\n",
        "\n",
        "segmentation_replacement_zip_path = \"/content/dataset_augmentations/Segmentation.zip\"\n",
        "imagesets_dir = \"/root/.cache/kagglehub/datasets/ngan2710/voc-devkit-2007-and-2012/versions/1/VOCdevkit/VOC2012/ImageSets/\"\n",
        "\n",
        "shutil.rmtree(f\"{imagesets_dir}Segmentation\", ignore_errors=True)\n",
        "\n",
        "with zipfile.ZipFile(segmentation_replacement_zip_path, 'r') as zip_ref:\n",
        "    zip_ref.extractall(imagesets_dir)"
      ],
      "metadata": {
        "colab": {
          "base_uri": "https://localhost:8080/"
        },
        "cellView": "form",
        "id": "flUr2vr7FgDP",
        "outputId": "fac2501e-16ed-4f37-d962-a7a6a6401897"
      },
      "execution_count": 3,
      "outputs": [
        {
          "output_type": "stream",
          "name": "stdout",
          "text": [
            "Downloading...\n",
            "From (original): https://drive.google.com/uc?id=1TJZy_YkYwNMkdtECAlkWy8VuorPFjP1t\n",
            "From (redirected): https://drive.google.com/uc?id=1TJZy_YkYwNMkdtECAlkWy8VuorPFjP1t&confirm=t&uuid=b9a9da3f-a122-4bcc-a4f4-991e7edb454d\n",
            "To: /content/pretrained_model/vgg16-397923af.pth\n",
            "100% 553M/553M [00:02<00:00, 271MB/s]\n",
            "Downloading...\n",
            "From (original): https://drive.google.com/uc?id=1ZP6FHiclSNk1nH0WxhCH-W_fwd3GnEZa\n",
            "From (redirected): https://drive.google.com/uc?id=1ZP6FHiclSNk1nH0WxhCH-W_fwd3GnEZa&confirm=t&uuid=8f7ff6ab-06c8-4e45-9707-22fa8fba4c75\n",
            "To: /content/dataset_augmentations/ScribbleAugAuto.zip\n",
            "100% 40.5M/40.5M [00:01<00:00, 33.6MB/s]\n",
            "Downloading...\n",
            "From: https://drive.google.com/uc?id=1oGy-tg_Tv_-ZUQeiNtM5i4sK0lYB0MeL\n",
            "To: /content/dataset_augmentations/Segmentation.zip\n",
            "100% 137k/137k [00:00<00:00, 76.8MB/s]\n",
            "Downloading...\n",
            "From (original): https://drive.google.com/uc?id=1R5G3BfQTAY4zWkazTsgFc3kJNQVjwi4M\n",
            "From (redirected): https://drive.google.com/uc?id=1R5G3BfQTAY4zWkazTsgFc3kJNQVjwi4M&confirm=t&uuid=06454c62-8cfe-443b-9a64-6e64c6c20ca4\n",
            "To: /content/dataset_augmentations/SegmentationClassAug.zip\n",
            "100% 27.0M/27.0M [00:00<00:00, 33.6MB/s]\n",
            "Downloading...\n",
            "From (original): https://drive.google.com/uc?id=1D4oX0Ub6ObFO81yonWY4ehZ-tr5Hn5UK\n",
            "From (redirected): https://drive.google.com/uc?id=1D4oX0Ub6ObFO81yonWY4ehZ-tr5Hn5UK&confirm=t&uuid=c4b1d898-a41c-467d-a903-a78764bd48e3\n",
            "To: /content/dataset_augmentations/SegmentationObjectAug.zip\n",
            "100% 28.6M/28.6M [00:00<00:00, 42.7MB/s]\n",
            "Warning: Looks like you're using an outdated `kagglehub` version (installed: 0.3.10), please consider upgrading to the latest version (0.3.11).\n",
            "Downloading from https://www.kaggle.com/api/v1/datasets/download/ngan2710/voc-devkit-2007-and-2012?dataset_version_number=1...\n"
          ]
        },
        {
          "output_type": "stream",
          "name": "stderr",
          "text": [
            "100%|██████████| 2.23G/2.23G [01:42<00:00, 23.3MB/s]"
          ]
        },
        {
          "output_type": "stream",
          "name": "stdout",
          "text": [
            "Extracting files...\n"
          ]
        },
        {
          "output_type": "stream",
          "name": "stderr",
          "text": [
            "\n"
          ]
        }
      ]
    },
    {
      "cell_type": "markdown",
      "source": [
        "# Training and Testing"
      ],
      "metadata": {
        "id": "d8BjueMPJy5S"
      }
    },
    {
      "cell_type": "code",
      "source": [
        "os.chdir(\"/content/\")\n",
        "\n",
        "# recommended to save to drive so that progress can be saved between training/testing blocks\n",
        "if DRIVE_MOUNTED is False:\n",
        "  drive.mount('/content/drive')\n",
        "  DRIVE_MOUNTED = True"
      ],
      "metadata": {
        "colab": {
          "base_uri": "https://localhost:8080/"
        },
        "id": "MG2gDItKPuDK",
        "outputId": "be11a51a-6987-4e1b-8645-ff72843d002e"
      },
      "execution_count": 7,
      "outputs": [
        {
          "output_type": "stream",
          "name": "stdout",
          "text": [
            "Mounted at /content/drive\n"
          ]
        }
      ]
    },
    {
      "cell_type": "markdown",
      "source": [
        "****"
      ],
      "metadata": {
        "id": "HQc5GyePQ4p9"
      }
    },
    {
      "cell_type": "code",
      "source": [
        "# VOC 1-way 1-shot; TRAIN\n",
        "!python train.py with mode='train' dataset='VOC' label_sets=0 model.align=False task.n_ways=1 task.n_shots=1\n",
        "!python train.py with mode='train' dataset='VOC' label_sets=1 model.align=False task.n_ways=1 task.n_shots=1\n",
        "!python train.py with mode='train' dataset='VOC' label_sets=2 model.align=False task.n_ways=1 task.n_shots=1\n",
        "!python train.py with mode='train' dataset='VOC' label_sets=3 model.align=False task.n_ways=1 task.n_shots=1"
      ],
      "metadata": {
        "id": "d3WTlAMkGJ1H",
        "collapsed": true
      },
      "execution_count": null,
      "outputs": []
    },
    {
      "cell_type": "code",
      "source": [
        "# VOC 1-way 1-shot; TEST\n",
        "!python test.py with mode='test' snapshot='./runs/PANet_VOC_sets_0_1way_1shot_[train]/1/snapshots/30000.pth'\n",
        "!python test.py with mode='test' snapshot='./runs/PANet_VOC_sets_1_1way_1shot_[train]/1/snapshots/30000.pth'\n",
        "!python test.py with mode='test' snapshot='./runs/PANet_VOC_sets_2_1way_1shot_[train]/1/snapshots/30000.pth'\n",
        "!python test.py with mode='test' snapshot='./runs/PANet_VOC_sets_3_1way_1shot_[train]/1/snapshots/30000.pth'"
      ],
      "metadata": {
        "id": "Y0R8qDmjQKUG"
      },
      "execution_count": null,
      "outputs": []
    },
    {
      "cell_type": "code",
      "source": [
        "if DRIVE_MOUNTED is True:\n",
        "  src = \"/content/runs/\"\n",
        "  dst = \"/content/drive/MyDrive/PANet/Results/\"\n",
        "  shutil.copytree(src, dst, dirs_exist_ok=True)\n",
        "  final_model_weights = \"/content/drive/MyDrive/PANet/Results/PANet_VOC_align_sets_0_1way_5shot_[train]/1/snapshots/30000.pth\""
      ],
      "metadata": {
        "id": "PLqz2hl8QMl1"
      },
      "execution_count": null,
      "outputs": []
    },
    {
      "cell_type": "markdown",
      "source": [
        "****"
      ],
      "metadata": {
        "id": "uz0DdlvKQv8w"
      }
    },
    {
      "cell_type": "code",
      "source": [
        "# VOC 1-way 5-shot; TRAIN\n",
        "!python train.py with mode='train' dataset='VOC' label_sets=0 model.align=False task.n_ways=1 task.n_shots=5\n",
        "!python train.py with mode='train' dataset='VOC' label_sets=1 model.align=False task.n_ways=1 task.n_shots=5\n",
        "!python train.py with mode='train' dataset='VOC' label_sets=2 model.align=False task.n_ways=1 task.n_shots=5\n",
        "!python train.py with mode='train' dataset='VOC' label_sets=3 model.align=False task.n_ways=1 task.n_shots=5"
      ],
      "metadata": {
        "id": "-7i9IQQFQMjR"
      },
      "execution_count": null,
      "outputs": []
    },
    {
      "cell_type": "code",
      "source": [
        "# VOC 1-way 5-shot; TEST\n",
        "!python test.py with mode='test' snapshot='./runs/PANet_VOC_sets_0_1way_5shot_[train]/1/snapshots/30000.pth'\n",
        "!python test.py with mode='test' snapshot='./runs/PANet_VOC_sets_1_1way_5shot_[train]/1/snapshots/30000.pth'\n",
        "!python test.py with mode='test' snapshot='./runs/PANet_VOC_sets_2_1way_5shot_[train]/1/snapshots/30000.pth'\n",
        "!python test.py with mode='test' snapshot='./runs/PANet_VOC_sets_3_1way_5shot_[train]/1/snapshots/30000.pth'"
      ],
      "metadata": {
        "id": "_keTgYLcQMgr"
      },
      "execution_count": null,
      "outputs": []
    },
    {
      "cell_type": "code",
      "source": [
        "if DRIVE_MOUNTED is True:\n",
        "  src = \"/content/runs/\"\n",
        "  dst = \"/content/drive/MyDrive/PANet/Results/\"\n",
        "  shutil.copytree(src, dst, dirs_exist_ok=True)\n",
        "  final_model_weights = \"/content/drive/MyDrive/PANet/Results/PANet_VOC_align_sets_0_1way_5shot_[train]/1/snapshots/30000.pth\""
      ],
      "metadata": {
        "id": "tX6HysgrQMdz"
      },
      "execution_count": null,
      "outputs": []
    },
    {
      "cell_type": "markdown",
      "source": [
        "****"
      ],
      "metadata": {
        "id": "bbCaNb-dQ0xm"
      }
    },
    {
      "cell_type": "code",
      "source": [
        "# VOC 1-way 1-shot; PAR; TRAIN\n",
        "!python train.py with mode='train' dataset='VOC' label_sets=0 model.align=True task.n_ways=1 task.n_shots=1\n",
        "!python train.py with mode='train' dataset='VOC' label_sets=1 model.align=True task.n_ways=1 task.n_shots=1\n",
        "!python train.py with mode='train' dataset='VOC' label_sets=2 model.align=True task.n_ways=1 task.n_shots=1\n",
        "!python train.py with mode='train' dataset='VOC' label_sets=3 model.align=True task.n_ways=1 task.n_shots=1"
      ],
      "metadata": {
        "id": "5yAK8LGmQMX-"
      },
      "execution_count": null,
      "outputs": []
    },
    {
      "cell_type": "code",
      "source": [
        "# VOC 1-way 1-shot; PAR; TEST\n",
        "!python test.py with mode='test' snapshot='./runs/PANet_VOC_align_sets_0_1way_1shot_[train]/1/snapshots/30000.pth'\n",
        "!python test.py with mode='test' snapshot='./runs/PANet_VOC_align_sets_1_1way_1shot_[train]/1/snapshots/30000.pth'\n",
        "!python test.py with mode='test' snapshot='./runs/PANet_VOC_align_sets_2_1way_1shot_[train]/1/snapshots/30000.pth'\n",
        "!python test.py with mode='test' snapshot='./runs/PANet_VOC_align_sets_3_1way_1shot_[train]/1/snapshots/30000.pth'"
      ],
      "metadata": {
        "id": "7_HgQZbJQL2t"
      },
      "execution_count": null,
      "outputs": []
    },
    {
      "cell_type": "code",
      "source": [
        "if DRIVE_MOUNTED is True:\n",
        "  src = \"/content/runs/\"\n",
        "  dst = \"/content/drive/MyDrive/PANet/Results/\"\n",
        "  shutil.copytree(src, dst, dirs_exist_ok=True)\n",
        "  final_model_weights = \"/content/drive/MyDrive/PANet/Results/PANet_VOC_align_sets_0_1way_5shot_[train]/1/snapshots/30000.pth\""
      ],
      "metadata": {
        "id": "0N-ooZO6QMLg"
      },
      "execution_count": null,
      "outputs": []
    },
    {
      "cell_type": "markdown",
      "source": [
        "****"
      ],
      "metadata": {
        "id": "bQDalK-bRK8v"
      }
    },
    {
      "cell_type": "code",
      "source": [
        "# VOC 1-way 5-shot; PAR; TRAIN\n",
        "!python train.py with mode='train' dataset='VOC' label_sets=0 model.align=True task.n_ways=1 task.n_shots=5\n",
        "!python train.py with mode='train' dataset='VOC' label_sets=1 model.align=True task.n_ways=1 task.n_shots=5\n",
        "!python train.py with mode='train' dataset='VOC' label_sets=2 model.align=True task.n_ways=1 task.n_shots=5\n",
        "!python train.py with mode='train' dataset='VOC' label_sets=3 model.align=True task.n_ways=1 task.n_shots=5"
      ],
      "metadata": {
        "id": "OAEUInQeQfev"
      },
      "execution_count": null,
      "outputs": []
    },
    {
      "cell_type": "code",
      "source": [
        "# VOC 1-way 5-shot; PAR; TEST\n",
        "!python test.py with mode='test' snapshot='./runs/PANet_VOC_align_sets_0_1way_5shot_[train]/1/snapshots/30000.pth'\n",
        "!python test.py with mode='test' snapshot='./runs/PANet_VOC_align_sets_1_1way_5shot_[train]/1/snapshots/30000.pth'\n",
        "!python test.py with mode='test' snapshot='./runs/PANet_VOC_align_sets_2_1way_5shot_[train]/1/snapshots/30000.pth'\n",
        "!python test.py with mode='test' snapshot='./runs/PANet_VOC_align_sets_3_1way_5shot_[train]/1/snapshots/30000.pth'"
      ],
      "metadata": {
        "id": "0lt8OK_NQfVW"
      },
      "execution_count": null,
      "outputs": []
    },
    {
      "cell_type": "code",
      "source": [
        "if DRIVE_MOUNTED is True:\n",
        "  src = \"/content/runs/\"\n",
        "  dst = \"/content/drive/MyDrive/PANet/Results/\"\n",
        "  shutil.copytree(src, dst, dirs_exist_ok=True)\n",
        "  final_model_weights = \"/content/drive/MyDrive/PANet/Results/PANet_VOC_align_sets_0_1way_5shot_[train]/1/snapshots/30000.pth\""
      ],
      "metadata": {
        "id": "NgoE8IbgQfS1"
      },
      "execution_count": null,
      "outputs": []
    },
    {
      "cell_type": "markdown",
      "source": [
        "****"
      ],
      "metadata": {
        "id": "yWEO8GZgRkCj"
      }
    },
    {
      "cell_type": "code",
      "source": [
        "# VOC 1-way 1-shot; PAR; BBOX ANNOTATIONS; TEST\n",
        "!python test.py with mode='test' bbox=True snapshot='./runs/PANet_VOC_align_sets_0_1way_1shot_[train]/1/snapshots/30000.pth'\n",
        "!python test.py with mode='test' bbox=True snapshot='./runs/PANet_VOC_align_sets_1_1way_1shot_[train]/1/snapshots/30000.pth'\n",
        "!python test.py with mode='test' bbox=True snapshot='./runs/PANet_VOC_align_sets_2_1way_1shot_[train]/1/snapshots/30000.pth'\n",
        "!python test.py with mode='test' bbox=True snapshot='./runs/PANet_VOC_align_sets_3_1way_1shot_[train]/1/snapshots/30000.pth'"
      ],
      "metadata": {
        "id": "d8VOmJpPRjAq"
      },
      "execution_count": null,
      "outputs": []
    },
    {
      "cell_type": "code",
      "source": [
        "# VOC 1-way 5-shot; PAR; BBOX ANNOTATIONS; TEST\n",
        "!python test.py with mode='test' bbox=True snapshot='./runs/PANet_VOC_align_sets_0_1way_5shot_[train]/1/snapshots/30000.pth'\n",
        "!python test.py with mode='test' bbox=True snapshot='./runs/PANet_VOC_align_sets_1_1way_5shot_[train]/1/snapshots/30000.pth'\n",
        "!python test.py with mode='test' bbox=True snapshot='./runs/PANet_VOC_align_sets_2_1way_5shot_[train]/1/snapshots/30000.pth'\n",
        "!python test.py with mode='test' bbox=True snapshot='./runs/PANet_VOC_align_sets_3_1way_5shot_[train]/1/snapshots/30000.pth'"
      ],
      "metadata": {
        "id": "Ga7izffSRmHQ"
      },
      "execution_count": null,
      "outputs": []
    },
    {
      "cell_type": "markdown",
      "source": [
        "****"
      ],
      "metadata": {
        "id": "vsxQqTNSSGwp"
      }
    },
    {
      "cell_type": "code",
      "source": [
        "# VOC 1-way 1-shot; PAR; SCRIBBLE ANNOTATIONS; TEST\n",
        "!python test.py with mode='test' scribble=True snapshot='./runs/PANet_VOC_align_sets_0_1way_1shot_[train]/1/snapshots/30000.pth'\n",
        "!python test.py with mode='test' scribble=True snapshot='./runs/PANet_VOC_align_sets_1_1way_1shot_[train]/1/snapshots/30000.pth'\n",
        "!python test.py with mode='test' scribble=True snapshot='./runs/PANet_VOC_align_sets_2_1way_1shot_[train]/1/snapshots/30000.pth'\n",
        "!python test.py with mode='test' scribble=True snapshot='./runs/PANet_VOC_align_sets_3_1way_1shot_[train]/1/snapshots/30000.pth'"
      ],
      "metadata": {
        "id": "TiGjEeu7RmE3"
      },
      "execution_count": null,
      "outputs": []
    },
    {
      "cell_type": "code",
      "source": [
        "# VOC 1-way 5-shot; PAR; SCRIBBLE ANNOTATIONS; TEST\n",
        "!python test.py with mode='test' scribble=True snapshot='./runs/PANet_VOC_align_sets_0_1way_5shot_[train]/1/snapshots/30000.pth'\n",
        "!python test.py with mode='test' scribble=True snapshot='./runs/PANet_VOC_align_sets_1_1way_5shot_[train]/1/snapshots/30000.pth'\n",
        "!python test.py with mode='test' scribble=True snapshot='./runs/PANet_VOC_align_sets_2_1way_5shot_[train]/1/snapshots/30000.pth'\n",
        "!python test.py with mode='test' scribble=True snapshot='./runs/PANet_VOC_align_sets_3_1way_5shot_[train]/1/snapshots/30000.pth'"
      ],
      "metadata": {
        "id": "GmnniVzIRmCi"
      },
      "execution_count": null,
      "outputs": []
    },
    {
      "cell_type": "markdown",
      "source": [
        "****"
      ],
      "metadata": {
        "id": "vUBgsHiASKVu"
      }
    },
    {
      "cell_type": "code",
      "source": [
        "import os\n",
        "import shutil\n",
        "from google.colab import drive\n",
        "\n",
        "\n",
        "if DRIVE_MOUNTED is False:\n",
        "  drive.mount('/content/drive')\n",
        "  DRIVE_MOUNTED = True\n",
        "\n",
        "final_model_weights = \"/content/runs/PANet_VOC_align_sets_0_1way_5shot_[train]/1/snapshots/30000.pth\"\n",
        "\n",
        "if DRIVE_MOUNTED is True:\n",
        "  src = \"/content/runs/\"\n",
        "  dst = \"/content/drive/MyDrive/PANet/Results/\"\n",
        "  shutil.copytree(src, dst, dirs_exist_ok=True)\n",
        "  final_model_weights = \"/content/drive/MyDrive/PANet/Results/PANet_VOC_align_sets_0_1way_5shot_[train]/1/snapshots/30000.pth\""
      ],
      "metadata": {
        "id": "G-niNpECF2dB"
      },
      "execution_count": null,
      "outputs": []
    },
    {
      "cell_type": "markdown",
      "source": [
        "# Visualizing Evaluation Results\n",
        "Qualitative measures are still the same as last time.\n",
        "\n",
        "If you have completed all training/testing steps, you should have the runs stored (prefereably on google drive).\n",
        "From there, you should find a file `metrics.json` per run config which contains mean- and binary- IoU metrics.\n",
        "\n",
        "For me, I was there for each test cycle and manually logged mean- and binary- IoU metrics.\n",
        "Then I placed them into the tables seen in the report.\n",
        "The code for plotting the loss graph, however, can be seen below."
      ],
      "metadata": {
        "id": "5oWznrEiKRnW"
      }
    },
    {
      "cell_type": "code",
      "source": [
        "# @title Helper Functions\n",
        "\n",
        "import matplotlib.pyplot as plt\n",
        "import matplotlib.patches as patches\n",
        "\n",
        "\n",
        "def show_segmentation(idx, sample, query_pred) :\n",
        "  \"\"\" Plots a support and query set with the predicted mask.\n",
        "  \"\"\"\n",
        "  fig, axes = plt.subplots(nrows=1, ncols=3, figsize=(12,6), gridspec_kw={'wspace':0.3, 'hspace':0.2})\n",
        "\n",
        "  # display configs\n",
        "  do_threshold = True\n",
        "  threshold = 0.7\n",
        "  mask_alpha = 0.5\n",
        "  query_cmap = plt.get_cmap('bwr').reversed()\n",
        "  support_cmap = plt.get_cmap('bwr')\n",
        "\n",
        "  def process_mask(mask, do_threshold=False, threshold=0.7):\n",
        "    if do_threshold:\n",
        "      x = mask\n",
        "      norm_x = (x - x.min()) / (x.max() - x.min())\n",
        "      mask = (norm_x > threshold).float()\n",
        "      mask_np = mask.detach().cpu().numpy()\n",
        "      mask_np = np.ma.masked_where(mask_np == 1, mask_np)\n",
        "    else:\n",
        "      x = mask\n",
        "      mask = torch.sigmoid(x)\n",
        "      mask_np = mask.detach().cpu().numpy()\n",
        "      mask_np = np.ma.masked_where(mask_np == 1, mask_np)\n",
        "\n",
        "    return mask_np\n",
        "\n",
        "\n",
        "  # support image with ground truth segmentation mask\n",
        "  plt.subplot(1, 3, 1)\n",
        "  img = sample[\"support_images_t\"][0][0].squeeze(0)\n",
        "  img_np = img.permute(1, 2, 0).cpu().numpy()\n",
        "\n",
        "  mask = sample[\"support_mask\"][0][0][\"fg_mask\"].squeeze(0).cpu().numpy()\n",
        "  mask = np.ma.masked_where(mask == 0, mask)\n",
        "\n",
        "  plt.imshow(img_np)\n",
        "  plt.imshow(mask, cmap=support_cmap, alpha=mask_alpha)\n",
        "  plt.axis('off')\n",
        "\n",
        "\n",
        "  # ground truth segmentation mask\n",
        "  plt.subplot(1, 3, 2)\n",
        "  img = sample[\"query_images_t\"][0][0].squeeze(0)\n",
        "  img_np = img.permute(1, 2, 0).cpu().numpy()\n",
        "\n",
        "  mask = sample[\"query_masks\"][0][0].squeeze(0).squeeze(0).cpu().numpy()\n",
        "  mask = np.ma.masked_where(mask == 1, mask)\n",
        "\n",
        "  plt.imshow(img_np)\n",
        "  plt.imshow(mask, cmap=query_cmap, alpha=mask_alpha)\n",
        "  plt.axis('off')\n",
        "\n",
        "\n",
        "  # predicted segmentation mask\n",
        "  plt.subplot(1, 3, 3)\n",
        "  mask = process_mask(query_pred[0][0], do_threshold=do_threshold, threshold=threshold)\n",
        "  plt.imshow(img_np)\n",
        "  plt.imshow(mask, cmap=query_cmap, alpha=mask_alpha)\n",
        "  plt.axis('off')\n",
        "\n",
        "\n",
        "  # adds fancy stuff to make it look more like the report\n",
        "  pos = [ax.get_position() for ax in axes]\n",
        "  xmin = min(p.x0 for p in pos)\n",
        "  ymin = min(p.y0 for p in pos)\n",
        "  xmax = max(p.x1 for p in pos)\n",
        "  ymax = max(p.y1 for p in pos)\n",
        "\n",
        "  box = patches.FancyBboxPatch(\n",
        "      (xmin, ymin), xmax - xmin, ymax - ymin,\n",
        "      boxstyle=\"round,pad=0.011\",\n",
        "      transform=fig.transFigure,\n",
        "      fill=False,\n",
        "      edgecolor='black',\n",
        "      linewidth=1\n",
        "  )\n",
        "  fig.add_artist(box)\n",
        "\n",
        "  fig.text(0.515, 0.73, 'ground truth', ha='center', va='bottom')\n",
        "  fig.text(0.8, 0.73, 'prediction', ha='center', va='bottom')\n",
        "\n",
        "  fig.text(0.1, 0.73, f'{idx}', ha='center', va='bottom')\n",
        "\n",
        "  label = VOC_CLASS_STRS[int(sample[\"class_ids\"][0][0])]\n",
        "  fig.text(0.1, 0.5, label, rotation='vertical', ha='center', va='center')\n",
        "\n",
        "  return plt.gcf()"
      ],
      "metadata": {
        "cellView": "form",
        "id": "AJeZMMbSH6_-"
      },
      "execution_count": null,
      "outputs": []
    },
    {
      "cell_type": "code",
      "source": [
        "# @title Qualitative Examples\n",
        "# @markdown This block will perform segmentation on 'IMAGES_TO_DISPLAY' images.\n",
        "\n",
        "IMAGES_TO_DISPLAY = 5 # @param {type:\"string\"}\n",
        "VOC_CLASS_STRS = [\n",
        "    \"background\", \"aeroplane\", \"bicycle\", \"bird\", \"boat\", \"bottle\", \"bus\", \"car\",\n",
        "    \"cat\", \"chair\", \"cow\", \"diningtable\", \"dog\", \"horse\", \"motorbike\", \"person\",\n",
        "    \"pottedplant\", \"sheep\", \"sofa\", \"train\", \"tvmonitor\"\n",
        "]\n",
        "\n",
        "# manually init some of the config variables\n",
        "# sometimes they don't get loaded properly\n",
        "_config = {}\n",
        "_config['optim'] = {\n",
        "  'lr': 1e-3,\n",
        "  'momentum': 0.9,\n",
        "  'weight_decay': 0.0005,\n",
        "}\n",
        "_config['model'] = {\n",
        "  'align': True,\n",
        "}\n",
        "_config['task'] = {\n",
        "  'n_ways': 1,\n",
        "  'n_shots': 1,\n",
        "  'n_queries': 1,\n",
        "}\n",
        "_config['n_steps'] = 30000\n",
        "_config['label_sets'] = 0\n",
        "_config['batch_size'] = 1\n",
        "_config['lr_milestones'] = [10000, 20000, 30000]\n",
        "_config['align_loss_scaler'] = 1\n",
        "_config['ignore_label'] = 255\n",
        "_config['print_interval'] = 100\n",
        "_config['save_pred_every'] = 1_000  # was 10_000\n",
        "_config[\"input_size\"] = (417, 417)\n",
        "_config[\"seed\"] = 1234\n",
        "_config[\"cuda_visable\"] = '0, 1, 2, 3, 4, 5, 6, 7'\n",
        "_config[\"gpu_id\"] = 0\n",
        "_config[\"mode\"] = 'test' # 'train' or 'test'\n",
        "\n",
        "\n",
        "# init torch, model, seeds, etc.\n",
        "set_seed(_config['seed'])\n",
        "cudnn.enabled = True\n",
        "cudnn.benchmark = True\n",
        "torch.cuda.set_device(device=_config['gpu_id'])\n",
        "torch.set_num_threads(1)\n",
        "\n",
        "model = FewShotSeg(pretrained_path=final_model_weights, cfg=_config['model'])\n",
        "model = nn.DataParallel(model.cuda(), device_ids=[_config['gpu_id'],])\n",
        "model.load_state_dict(torch.load(final_model_weights, map_location='cpu'))\n",
        "model.eval()\n",
        "\n",
        "\n",
        "# init dataset\n",
        "data_name = \"VOC\"\n",
        "if data_name == 'VOC':\n",
        "    make_data = voc_fewshot\n",
        "    max_label = 20\n",
        "elif data_name == 'COCO':\n",
        "    make_data = coco_fewshot\n",
        "    max_label = 80\n",
        "else:\n",
        "    raise ValueError('Wrong config for dataset!')\n",
        "labels = CLASS_LABELS[data_name]['all'] - CLASS_LABELS[data_name][_config['label_sets']]\n",
        "transforms = [Resize(size=_config['input_size'])]\n",
        "transforms = Compose(transforms)\n",
        "\n",
        "dataset = make_data(\n",
        "    base_dir=\"/root/.cache/kagglehub/datasets/ngan2710/voc-devkit-2007-and-2012/versions/1/VOCdevkit/VOC2012/\",\n",
        "    split=\"trainaug\",\n",
        "    transforms=transforms,\n",
        "    to_tensor=ToTensorNormalize(),\n",
        "    labels=labels,\n",
        "    max_iters=1_000 * 1,\n",
        "    n_ways=1,\n",
        "    n_shots=1,\n",
        "    n_queries=1\n",
        ")\n",
        "\n",
        "testloader = DataLoader(dataset, batch_size=_config['batch_size'], shuffle=False, num_workers=1, pin_memory=True, drop_last=False)\n",
        "\n",
        "\n",
        "for idx, sample in enumerate(testloader):\n",
        "  # passing the input into the model\n",
        "  # note that we cant just do 'model(sample)' because we have to account for\n",
        "  # different types of annotaions.\n",
        "  _config['bbox'] = False\n",
        "  _config['scribble'] = False\n",
        "  label_ids = list(sample['class_ids'])\n",
        "  support_images = [[shot.cuda() for shot in way] for way in sample['support_images']]\n",
        "  suffix = 'scribble' if _config['scribble'] else 'mask'\n",
        "\n",
        "  if _config['bbox']:\n",
        "      support_fg_mask = []\n",
        "      support_bg_mask = []\n",
        "      for i, way in enumerate(sample['support_mask']):\n",
        "          fg_masks = []\n",
        "          bg_masks = []\n",
        "          for j, shot in enumerate(way):\n",
        "              fg_mask, bg_mask = get_bbox(shot['fg_mask'], sample['support_inst'][i][j])\n",
        "              fg_masks.append(fg_mask.float().cuda())\n",
        "              bg_masks.append(bg_mask.float().cuda())\n",
        "          support_fg_mask.append(fg_masks)\n",
        "          support_bg_mask.append(bg_masks)\n",
        "  else:\n",
        "      support_fg_mask = [[shot[f'fg_{suffix}'].float().cuda() for shot in way] for way in sample['support_mask']]\n",
        "      support_bg_mask = [[shot[f'bg_{suffix}'].float().cuda() for shot in way] for way in sample['support_mask']]\n",
        "\n",
        "  query_images = [query_image.cuda() for query_image in sample['query_images']]\n",
        "  query_labels = torch.cat([query_label.cuda()for query_label in sample['query_labels']], dim=0)\n",
        "  query_pred, _ = model(support_images, support_fg_mask, support_bg_mask, query_images)\n",
        "\n",
        "  label = VOC_CLASS_STRS[int(sample[\"class_ids\"][0][0])]\n",
        "  figure = show_segmentation(idx, sample, query_pred)\n",
        "  plt.show(figure)\n",
        "\n",
        "  if idx >= IMAGES_TO_DISPLAY:\n",
        "    break"
      ],
      "metadata": {
        "id": "YVOLLtApxknE",
        "cellView": "form"
      },
      "execution_count": null,
      "outputs": []
    },
    {
      "cell_type": "code",
      "source": [
        "# @title Plotting losses\n",
        "# @markdown **Note** that it assumes the files are located within drive.\n",
        "# @markdown You can change the values if your runs are not saved on drive.\n",
        "import pickle\n",
        "import numpy as np\n",
        "import pandas as pd\n",
        "import seaborn as sns\n",
        "import matplotlib.pyplot as plt\n",
        "\n",
        "\n",
        "def get_training_loss_figure ():\n",
        "\n",
        "  plt.style.use(\"default\")\n",
        "\n",
        "  # 1-way, 1-shot; w/ PAR\n",
        "  with open(\"/content/drive/MyDrive/PANet/Results/PANet_VOC_align_sets_0_1way_1shot_[train]/1/snapshots/query_losses_30000.pkl\", 'rb') as f:\n",
        "    _1way_1shot_losses_par = pickle.load(f)\n",
        "\n",
        "  # 1-way, 1-shot; w/out PAR\n",
        "  with open(\"/content/drive/MyDrive/PANet/Results/PANet_VOC_sets_0_1way_1shot_[train]/1/snapshots/query_losses_30000.pkl\", 'rb') as f:\n",
        "    _1way_1shot_losses = pickle.load(f)\n",
        "\n",
        "  # 1-way, 5-shot; w/out PAR\n",
        "  with open(\"/content/drive/MyDrive/PANet/Results/PANet_VOC_sets_0_1way_5shot_[train]/1/snapshots/query_losses_30000.pkl\", 'rb') as f:\n",
        "    _1way_5shot_losses = pickle.load(f)\n",
        "\n",
        "  # 1-way, 5-shot; w/ PAR\n",
        "  with open(\"/content/drive/MyDrive/PANet/Results/PANet_VOC_align_sets_0_1way_5shot_[train]/1/snapshots/query_losses_30000.pkl\", 'rb') as f:\n",
        "    _1way_5shot_losses_par = pickle.load(f)\n",
        "\n",
        "\n",
        "  data = np.stack([\n",
        "      np.array(_1way_1shot_losses),\n",
        "      np.array(_1way_1shot_losses_par),\n",
        "      np.array(_1way_5shot_losses),\n",
        "      np.array(_1way_5shot_losses_par),\n",
        "  ])\n",
        "\n",
        "  columns = [\n",
        "      'w/o PAR in 1-shot',\n",
        "      'w/ PAR in 1-shot',\n",
        "      'w/o PAR in 5-shot',\n",
        "      'w/ PAR in 5-shot'\n",
        "  ]\n",
        "\n",
        "  colors = {\n",
        "    'w/o PAR in 1-shot': 'lightsteelblue',\n",
        "    'w/ PAR in 1-shot': 'cornflowerblue',\n",
        "    'w/o PAR in 5-shot': 'yellowgreen',\n",
        "    'w/ PAR in 5-shot': 'forestgreen'\n",
        "  }\n",
        "\n",
        "  df = pd.DataFrame(data.T, columns=columns)\n",
        "\n",
        "  df[\"x\"] = df.index\n",
        "  df_melt = df.melt(id_vars=\"x\", var_name=\"line\", value_name=\"y\")\n",
        "\n",
        "  plt.figure(figsize=(7, 5))\n",
        "  sns.lineplot(data=df_melt, x=\"x\", y=\"y\", hue=\"line\", palette=colors)\n",
        "\n",
        "  plt.gca().spines['top'].set_visible(True)\n",
        "  plt.gca().spines['right'].set_visible(True)\n",
        "  plt.gca().spines['left'].set_visible(True)\n",
        "  plt.gca().spines['bottom'].set_visible(True)\n",
        "\n",
        "  plt.ylabel(\"Loss\")\n",
        "  plt.xlabel(\"Iterations\")\n",
        "\n",
        "  return plt.gcf()\n",
        "\n",
        "fig = get_training_loss_figure()\n",
        "plt.show(fig)"
      ],
      "metadata": {
        "colab": {
          "base_uri": "https://localhost:8080/",
          "height": 465
        },
        "cellView": "form",
        "id": "ozJ7-vKwTCz_",
        "outputId": "2b4db32b-39b7-499b-df64-0954fb210106"
      },
      "execution_count": 8,
      "outputs": [
        {
          "output_type": "display_data",
          "data": {
            "text/plain": [
              "<Figure size 700x500 with 1 Axes>"
            ],
            "image/png": "[encoded data removed]"
          },
          "metadata": {}
        }
      ]
    }
  ]
}